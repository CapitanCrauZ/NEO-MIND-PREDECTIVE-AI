{
 "cells": [
  {
   "cell_type": "markdown",
   "id": "2cf20699",
   "metadata": {},
   "source": [
    "# Predective Artigicial Intelligence Project"
   ]
  },
  {
   "cell_type": "markdown",
   "id": "57074e13",
   "metadata": {},
   "source": [
    "### Developer"
   ]
  },
  {
   "cell_type": "markdown",
   "id": "0b526f88",
   "metadata": {},
   "source": [
    "CapitanCrauZ"
   ]
  },
  {
   "cell_type": "markdown",
   "id": "8f94d063",
   "metadata": {},
   "source": [
    "## Data Understanding"
   ]
  },
  {
   "cell_type": "markdown",
   "id": "10ee136f",
   "metadata": {},
   "source": [
    "### Data Source"
   ]
  },
  {
   "cell_type": "markdown",
   "id": "e910dd63",
   "metadata": {},
   "source": [
    "https://datos.gob.cl/dataset/32806/resource/3572bdac-96f7-409f-8e6f-712b8a9cd245"
   ]
  },
  {
   "cell_type": "markdown",
   "id": "ea140bf2",
   "metadata": {},
   "source": [
    "### Data Analysis"
   ]
  },
  {
   "cell_type": "code",
   "execution_count": 4,
   "id": "fbca47f0",
   "metadata": {},
   "outputs": [],
   "source": [
    "import pandas as pd\n",
    "import numpy as np\n",
    "import matplotlib.pyplot as plt\n",
    "import joblib as jl"
   ]
  },
  {
   "cell_type": "markdown",
   "id": "bd0e366e",
   "metadata": {},
   "source": [
    "Import the Pandas, Numpy, MatplotLib and Joblib libraries to be able to handle the data and plot it later."
   ]
  },
  {
   "cell_type": "code",
   "execution_count": 6,
   "id": "87802fdc",
   "metadata": {},
   "outputs": [],
   "source": [
    "dfST = pd.read_csv('db/temps/stationtemps.csv')"
   ]
  },
  {
   "cell_type": "markdown",
   "id": "2b2b695f",
   "metadata": {},
   "source": [
    "Import the Database from it directory."
   ]
  },
  {
   "cell_type": "code",
   "execution_count": 7,
   "id": "73b2e61a",
   "metadata": {},
   "outputs": [
    {
     "data": {
      "text/plain": [
       "(11765, 11)"
      ]
     },
     "execution_count": 7,
     "metadata": {},
     "output_type": "execute_result"
    }
   ],
   "source": [
    "dfST.shape"
   ]
  },
  {
   "cell_type": "code",
   "execution_count": 8,
   "id": "36110b57",
   "metadata": {},
   "outputs": [
    {
     "data": {
      "text/plain": [
       "_id                  int64\n",
       "IdEstacion           int64\n",
       "Nombre Estacion     object\n",
       "Latitud             object\n",
       "Longitud            object\n",
       "Altura               int64\n",
       "AA+-o                int64\n",
       "Mes                  int64\n",
       "Dia                  int64\n",
       "TMinima            float64\n",
       "TMaxima            float64\n",
       "dtype: object"
      ]
     },
     "execution_count": 8,
     "metadata": {},
     "output_type": "execute_result"
    }
   ],
   "source": [
    "dfST.dtypes"
   ]
  },
  {
   "cell_type": "code",
   "execution_count": 11,
   "id": "81bd0a00",
   "metadata": {},
   "outputs": [],
   "source": [
    "dfStation = dfST[['IdEstacion', 'Nombre Estacion']].copy()"
   ]
  },
  {
   "cell_type": "code",
   "execution_count": 16,
   "id": "1b6dec78",
   "metadata": {},
   "outputs": [],
   "source": [
    "dfTemps = dfST[['TMinima', 'TMaxima']].copy()"
   ]
  },
  {
   "cell_type": "code",
   "execution_count": 31,
   "id": "c616f0f4",
   "metadata": {},
   "outputs": [],
   "source": [
    "dfMonth = dfST['Mes'].copy()"
   ]
  },
  {
   "cell_type": "code",
   "execution_count": 15,
   "id": "ae1b8bf1",
   "metadata": {},
   "outputs": [],
   "source": [
    "# dfStation.groupby(['IdEstacion'])"
   ]
  },
  {
   "cell_type": "code",
   "execution_count": null,
   "id": "21a60fd9",
   "metadata": {},
   "outputs": [],
   "source": [
    "dfAvgTY = dfTemps['TMinima'].groupby(dfMonth)\n",
    "dfAvgTY.plot(kind='bar')\n",
    "plt.title('Rain by Month')\n",
    "plt.show()"
   ]
  },
  {
   "cell_type": "markdown",
   "id": "199cb0e0",
   "metadata": {},
   "source": [
    "## Data Preparation"
   ]
  },
  {
   "cell_type": "markdown",
   "id": "79459659",
   "metadata": {},
   "source": [
    "## Modeling"
   ]
  },
  {
   "cell_type": "markdown",
   "id": "67268479",
   "metadata": {},
   "source": [
    "## Evaluation"
   ]
  },
  {
   "cell_type": "markdown",
   "id": "213f96bf",
   "metadata": {},
   "source": [
    "## Deployment"
   ]
  }
 ],
 "metadata": {
  "kernelspec": {
   "display_name": "Python 3 (ipykernel)",
   "language": "python",
   "name": "python3"
  },
  "language_info": {
   "codemirror_mode": {
    "name": "ipython",
    "version": 3
   },
   "file_extension": ".py",
   "mimetype": "text/x-python",
   "name": "python",
   "nbconvert_exporter": "python",
   "pygments_lexer": "ipython3",
   "version": "3.10.2"
  }
 },
 "nbformat": 4,
 "nbformat_minor": 5
}
