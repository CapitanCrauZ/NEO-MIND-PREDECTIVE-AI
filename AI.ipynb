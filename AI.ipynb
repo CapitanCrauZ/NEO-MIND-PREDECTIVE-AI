{
 "cells": [
  {
   "cell_type": "markdown",
   "id": "2cf20699",
   "metadata": {},
   "source": [
    "# Predective Artigicial Intelligence Project"
   ]
  },
  {
   "cell_type": "markdown",
   "id": "57074e13",
   "metadata": {},
   "source": [
    "Developer: CapitanCrauZ"
   ]
  }
 ],
 "metadata": {
  "kernelspec": {
   "display_name": "Python 3 (ipykernel)",
   "language": "python",
   "name": "python3"
  },
  "language_info": {
   "codemirror_mode": {
    "name": "ipython",
    "version": 3
   },
   "file_extension": ".py",
   "mimetype": "text/x-python",
   "name": "python",
   "nbconvert_exporter": "python",
   "pygments_lexer": "ipython3",
   "version": "3.10.2"
  }
 },
 "nbformat": 4,
 "nbformat_minor": 5
}
